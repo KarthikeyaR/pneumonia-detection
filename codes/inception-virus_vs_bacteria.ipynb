{
 "cells": [
  {
   "cell_type": "code",
   "execution_count": 1,
   "metadata": {
    "_cell_guid": "79c7e3d0-c299-4dcb-8224-4455121ee9b0",
    "_uuid": "d629ff2d2480ee46fbb7e2d37f6b5fab8052498a"
   },
   "outputs": [
    {
     "name": "stderr",
     "output_type": "stream",
     "text": [
      "Using TensorFlow backend.\n"
     ]
    }
   ],
   "source": [
    "# import libraries\n",
    "import json\n",
    "import math\n",
    "import os\n",
    "from glob import glob \n",
    "from tqdm import tqdm\n",
    "from PIL import Image\n",
    "import cv2 # image processing\n",
    "import numpy as np # linear algebra\n",
    "import pandas as pd # data processing\n",
    "import matplotlib.pyplot as plt # data visualization\n",
    "\n",
    "\n",
    "from sklearn.metrics import accuracy_score \n",
    "from sklearn.metrics import confusion_matrix\n",
    "from sklearn.metrics import classification_report \n",
    "from sklearn.model_selection import train_test_split\n",
    "\n",
    "from keras import layers\n",
    "from keras.models import Sequential\n",
    "from keras.optimizers import Adam, RMSprop\n",
    "from keras.applications import VGG19\n",
    "from keras.utils.np_utils import to_categorical\n",
    "from keras.layers import  Conv2D,MaxPooling2D,Activation,Dropout,Flatten,Dense,BatchNormalization,GlobalAveragePooling2D\n",
    "from keras.preprocessing.image import ImageDataGenerator,image,img_to_array,load_img\n",
    "import tensorflow as tf\n",
    "from keras.callbacks import EarlyStopping\n",
    "from keras.optimizers import Adam,RMSprop,SGD\n",
    "from keras.applications.inception_v3 import InceptionV3\n",
    "from keras.callbacks import ModelCheckpoint"
   ]
  },
  {
   "cell_type": "code",
   "execution_count": 2,
   "metadata": {},
   "outputs": [],
   "source": [
    "input_dir = \"../input/pneumonia-separated/sep/\"\n",
    "train_dir = input_dir +\"train_sep/\"\n",
    "test_dir = input_dir +\"test_sep/\"\n"
   ]
  },
  {
   "cell_type": "code",
   "execution_count": 3,
   "metadata": {},
   "outputs": [
    {
     "name": "stdout",
     "output_type": "stream",
     "text": [
      "['bacteria', 'virus']\n",
      "['bacteria', 'virus']\n"
     ]
    }
   ],
   "source": [
    "print(os.listdir(train_dir))\n",
    "print(os.listdir(test_dir ))"
   ]
  },
  {
   "cell_type": "code",
   "execution_count": 4,
   "metadata": {},
   "outputs": [
    {
     "name": "stdout",
     "output_type": "stream",
     "text": [
      "Found GPU at: /device:GPU:0\n"
     ]
    }
   ],
   "source": [
    "import timeit\n",
    "\n",
    "device_name = tf.test.gpu_device_name()\n",
    "if \"GPU\" not in device_name:\n",
    "    print(\"GPU device not found\")\n",
    "print('Found GPU at: {}'.format(device_name))"
   ]
  },
  {
   "cell_type": "code",
   "execution_count": 5,
   "metadata": {},
   "outputs": [],
   "source": [
    "def process_data(img_dims, batch_size):\n",
    "    # Data generation objects\n",
    "    train_datagen = ImageDataGenerator(rescale=1./255, rotation_range=40,width_shift_range=0.2,height_shift_range=0.2,shear_range=0.2,\n",
    "                                       zoom_range=0.2,horizontal_flip=True,fill_mode='nearest')\n",
    "    \n",
    "    test_val_datagen = ImageDataGenerator(rescale=1./255)\n",
    "    \n",
    "    # This is fed to the network in the specified batch sizes and image dimensions\n",
    "    train_gen = train_datagen.flow_from_directory(\n",
    "    directory=train_dir, \n",
    "    target_size=(img_dims, img_dims), \n",
    "    batch_size=batch_size, \n",
    "    class_mode='binary')\n",
    "\n",
    "    test_gen = test_val_datagen.flow_from_directory(\n",
    "    directory=test_dir, \n",
    "    target_size=(img_dims, img_dims), \n",
    "    batch_size=batch_size, \n",
    "    class_mode='binary')\n",
    "    \n",
    "    # I will be making predictions off of the test set in one batch size\n",
    "    # This is useful to be able to get the confusion matrix\n",
    "    test_data = []\n",
    "    test_labels = []\n",
    "\n",
    "    for cond in ['/bacteria/', '/virus/']:\n",
    "        for img in (os.listdir(test_dir + cond)):\n",
    "            img = plt.imread(test_dir+cond+img)\n",
    "            img = cv2.resize(img, (img_dims, img_dims))\n",
    "            img = np.dstack([img, img, img])\n",
    "            img = img.astype('float32') / 255\n",
    "            if cond=='/bacteria/':\n",
    "                label = 0\n",
    "            elif cond=='/virus/':\n",
    "                label = 1\n",
    "            test_data.append(img)\n",
    "            test_labels.append(label)\n",
    "        \n",
    "    test_data = np.array(test_data)\n",
    "    test_labels = np.array(test_labels)\n",
    "    \n",
    "    return train_gen, test_gen, test_data, test_labels"
   ]
  },
  {
   "cell_type": "code",
   "execution_count": 6,
   "metadata": {},
   "outputs": [
    {
     "name": "stdout",
     "output_type": "stream",
     "text": [
      "Found 3875 images belonging to 2 classes.\n",
      "Found 390 images belonging to 2 classes.\n"
     ]
    }
   ],
   "source": [
    "img_dims = 150\n",
    "batch_size = 20\n",
    "train_gen, test_gen, test_data, test_labels = process_data(img_dims, batch_size)"
   ]
  },
  {
   "cell_type": "code",
   "execution_count": 7,
   "metadata": {},
   "outputs": [
    {
     "name": "stdout",
     "output_type": "stream",
     "text": [
      "Found 3875 images belonging to 2 classes.\n",
      "Found 390 images belonging to 2 classes.\n"
     ]
    }
   ],
   "source": [
    "# Data Augmentation\n",
    "train_datagen = ImageDataGenerator(\n",
    "      rescale=1./255,\n",
    "      rotation_range=40,\n",
    "      width_shift_range=0.2,\n",
    "      height_shift_range=0.2,\n",
    "      shear_range=0.2,\n",
    "      zoom_range=0.2,\n",
    "      horizontal_flip=True,\n",
    "      fill_mode='nearest')\n",
    "\n",
    "test_datagen = ImageDataGenerator(rescale=1./255)\n",
    "\n",
    "train_generator = train_datagen.flow_from_directory(\n",
    "        train_dir,\n",
    "        target_size=(150, 150),\n",
    "        batch_size=20,\n",
    "        class_mode='binary')\n",
    "test_generator = test_datagen.flow_from_directory(\n",
    "        test_dir,\n",
    "        target_size=(150, 150),\n",
    "        batch_size=20,\n",
    "        class_mode='binary')"
   ]
  },
  {
   "cell_type": "code",
   "execution_count": 8,
   "metadata": {},
   "outputs": [],
   "source": [
    "from keras.optimizers import Adam, RMSprop, Adamax"
   ]
  },
  {
   "cell_type": "code",
   "execution_count": 9,
   "metadata": {},
   "outputs": [
    {
     "name": "stdout",
     "output_type": "stream",
     "text": [
      "Downloading data from https://github.com/fchollet/deep-learning-models/releases/download/v0.5/inception_v3_weights_tf_dim_ordering_tf_kernels_notop.h5\n",
      "87916544/87910968 [==============================] - 1s 0us/step\n",
      "Model: \"sequential_1\"\n",
      "_________________________________________________________________\n",
      "Layer (type)                 Output Shape              Param #   \n",
      "=================================================================\n",
      "inception_v3 (Model)         (None, 3, 3, 2048)        21802784  \n",
      "_________________________________________________________________\n",
      "batch_normalization_95 (Batc (None, 3, 3, 2048)        8192      \n",
      "_________________________________________________________________\n",
      "global_average_pooling2d_1 ( (None, 2048)              0         \n",
      "_________________________________________________________________\n",
      "dense_1 (Dense)              (None, 1000)              2049000   \n",
      "_________________________________________________________________\n",
      "dropout_1 (Dropout)          (None, 1000)              0         \n",
      "_________________________________________________________________\n",
      "dense_2 (Dense)              (None, 1)                 1001      \n",
      "=================================================================\n",
      "Total params: 23,860,977\n",
      "Trainable params: 23,822,449\n",
      "Non-trainable params: 38,528\n",
      "_________________________________________________________________\n"
     ]
    }
   ],
   "source": [
    "# Create inception Model with Keras library\n",
    "\n",
    "#adamax = tf.keras.optimizers.Adamax(learning_rate=0.001, beta_1=0.9, beta_2=0.999, epsilon=1e-07, name=\"Adamax\", **kwargs)\n",
    "\n",
    "# Create inception Model with Keras library\n",
    "incep =  InceptionV3(\n",
    "    weights='imagenet',\n",
    "    include_top=False,\n",
    "    input_shape=(150,150,3)\n",
    ")\n",
    "\n",
    "def build_model(backbone, lr=1e-4):\n",
    "    model = Sequential()\n",
    "    model.add(backbone)\n",
    "    model.add(BatchNormalization())\n",
    "    model.add(layers.GlobalAveragePooling2D())\n",
    "    model.add(Dense(1000, activation=\"relu\"))\n",
    "    model.add(Dropout(0.5))\n",
    "    model.add(Dense(1,activation=\"sigmoid\"))\n",
    "    \n",
    "    model.compile(\n",
    "        loss='binary_crossentropy',\n",
    "        optimizer=Adamax(lr=lr),\n",
    "        metrics=['acc']\n",
    "    )\n",
    "    return model\n",
    "\n",
    "model = build_model(incep ,lr = 1e-4)\n",
    "model.summary()"
   ]
  },
  {
   "cell_type": "code",
   "execution_count": 10,
   "metadata": {},
   "outputs": [
    {
     "name": "stdout",
     "output_type": "stream",
     "text": [
      "Epoch 1/25\n",
      "250/250 [==============================] - 159s 637ms/step - loss: 0.6690 - acc: 0.6403 - val_loss: 0.4940 - val_acc: 0.8000\n",
      "Epoch 2/25\n",
      "250/250 [==============================] - 115s 459ms/step - loss: 0.5973 - acc: 0.7030 - val_loss: 0.5826 - val_acc: 0.8368\n",
      "Epoch 3/25\n",
      "250/250 [==============================] - 118s 474ms/step - loss: 0.5903 - acc: 0.7068 - val_loss: 0.3362 - val_acc: 0.8350\n",
      "Epoch 4/25\n",
      "250/250 [==============================] - 118s 471ms/step - loss: 0.5648 - acc: 0.7237 - val_loss: 0.3139 - val_acc: 0.9053\n",
      "Epoch 5/25\n",
      "250/250 [==============================] - 118s 473ms/step - loss: 0.5725 - acc: 0.7203 - val_loss: 0.3200 - val_acc: 0.9100\n",
      "Epoch 6/25\n",
      "250/250 [==============================] - 118s 472ms/step - loss: 0.5373 - acc: 0.7371 - val_loss: 0.3422 - val_acc: 0.8737\n",
      "Epoch 7/25\n",
      "250/250 [==============================] - 118s 474ms/step - loss: 0.5393 - acc: 0.7427 - val_loss: 0.5731 - val_acc: 0.8800\n",
      "Epoch 8/25\n",
      "250/250 [==============================] - 118s 472ms/step - loss: 0.5346 - acc: 0.7445 - val_loss: 0.2039 - val_acc: 0.8947\n",
      "Epoch 9/25\n",
      "250/250 [==============================] - 118s 473ms/step - loss: 0.5359 - acc: 0.7391 - val_loss: 0.4037 - val_acc: 0.8800\n",
      "Epoch 10/25\n",
      "250/250 [==============================] - 118s 471ms/step - loss: 0.5219 - acc: 0.7538 - val_loss: 0.4702 - val_acc: 0.9105\n",
      "Epoch 11/25\n",
      "250/250 [==============================] - 119s 476ms/step - loss: 0.5244 - acc: 0.7491 - val_loss: 0.2851 - val_acc: 0.9050\n",
      "Epoch 12/25\n",
      "250/250 [==============================] - 118s 472ms/step - loss: 0.5011 - acc: 0.7620 - val_loss: 0.2793 - val_acc: 0.9000\n",
      "Epoch 13/25\n",
      "250/250 [==============================] - 118s 472ms/step - loss: 0.5160 - acc: 0.7637 - val_loss: 0.1930 - val_acc: 0.9000\n",
      "Epoch 14/25\n",
      "250/250 [==============================] - 118s 473ms/step - loss: 0.4961 - acc: 0.7646 - val_loss: 0.2355 - val_acc: 0.9421\n",
      "Epoch 15/25\n",
      "250/250 [==============================] - 118s 474ms/step - loss: 0.4902 - acc: 0.7699 - val_loss: 0.1840 - val_acc: 0.9400\n",
      "Epoch 16/25\n",
      "250/250 [==============================] - 117s 469ms/step - loss: 0.4964 - acc: 0.7654 - val_loss: 0.2273 - val_acc: 0.8947\n",
      "Epoch 17/25\n",
      "250/250 [==============================] - 119s 475ms/step - loss: 0.4886 - acc: 0.7776 - val_loss: 0.3139 - val_acc: 0.8850\n",
      "Epoch 18/25\n",
      "250/250 [==============================] - 118s 472ms/step - loss: 0.4870 - acc: 0.7696 - val_loss: 0.1542 - val_acc: 0.9000\n",
      "Epoch 19/25\n",
      "250/250 [==============================] - 118s 473ms/step - loss: 0.4802 - acc: 0.7772 - val_loss: 0.3040 - val_acc: 0.9150\n",
      "Epoch 20/25\n",
      "250/250 [==============================] - 118s 472ms/step - loss: 0.4746 - acc: 0.7830 - val_loss: 0.1496 - val_acc: 0.8947\n",
      "Epoch 21/25\n",
      "250/250 [==============================] - 119s 475ms/step - loss: 0.4657 - acc: 0.7848 - val_loss: 0.1570 - val_acc: 0.8450\n",
      "Epoch 22/25\n",
      "250/250 [==============================] - 117s 470ms/step - loss: 0.4577 - acc: 0.7938 - val_loss: 0.1553 - val_acc: 0.8947\n",
      "Epoch 23/25\n",
      "250/250 [==============================] - 118s 472ms/step - loss: 0.4648 - acc: 0.7898 - val_loss: 0.4605 - val_acc: 0.9250\n",
      "Epoch 24/25\n",
      "250/250 [==============================] - 118s 472ms/step - loss: 0.4461 - acc: 0.7956 - val_loss: 0.2725 - val_acc: 0.9000\n",
      "Epoch 25/25\n",
      "250/250 [==============================] - 118s 472ms/step - loss: 0.4507 - acc: 0.7956 - val_loss: 0.2827 - val_acc: 0.9100\n"
     ]
    }
   ],
   "source": [
    "from keras.callbacks import EarlyStopping\n",
    "early_stopping_monitor = EarlyStopping(patience=7)\n",
    "\n",
    "# Fit Model\n",
    "history2 = model.fit_generator(\n",
    "    train_generator,\n",
    "    steps_per_epoch=250,\n",
    "    epochs=25,\n",
    "    validation_data=test_generator,\n",
    "    validation_steps=10,\n",
    "    callbacks=[early_stopping_monitor]\n",
    ")"
   ]
  },
  {
   "cell_type": "code",
   "execution_count": 11,
   "metadata": {},
   "outputs": [
    {
     "data": {
      "image/png": "[encoded data removed]",
      "text/plain": [
       "<Figure size 720x216 with 2 Axes>"
      ]
     },
     "metadata": {
      "needs_background": "light"
     },
     "output_type": "display_data"
    }
   ],
   "source": [
    "# Visualize Loss and Accuracy Rates\n",
    "fig, ax = plt.subplots(1, 2, figsize=(10, 3))\n",
    "ax = ax.ravel()\n",
    "\n",
    "for i, met in enumerate(['acc', 'loss']):\n",
    "    ax[i].plot(history2.history[met])\n",
    "    ax[i].plot(history2.history['val_' + met])\n",
    "    ax[i].set_title('Model {}'.format(met))\n",
    "    ax[i].set_xlabel('epochs')\n",
    "    ax[i].set_ylabel(met)\n",
    "    ax[i].legend(['train', 'val'])"
   ]
  },
  {
   "cell_type": "code",
   "execution_count": 12,
   "metadata": {},
   "outputs": [
    {
     "name": "stdout",
     "output_type": "stream",
     "text": [
      "CONFUSION MATRIX\n"
     ]
    },
    {
     "data": {
      "image/png": "[encoded data removed]",
      "text/plain": [
       "<Figure size 360x360 with 1 Axes>"
      ]
     },
     "metadata": {
      "needs_background": "light"
     },
     "output_type": "display_data"
    },
    {
     "name": "stdout",
     "output_type": "stream",
     "text": [
      "\n",
      "TEST METRICS ----------------------\n",
      "Accuracy: 92.3076923076923%\n",
      "Precision: 93.38235294117648%\n",
      "Recall: 85.8108108108108%\n",
      "F1-score: 89.43661971830986\n",
      "\n",
      "TRAIN METRIC ----------------------\n",
      "Train acc: 79.56\n"
     ]
    }
   ],
   "source": [
    "from sklearn.metrics import accuracy_score, confusion_matrix\n",
    "\n",
    "preds = model.predict(test_data)\n",
    "\n",
    "acc = accuracy_score(test_labels, np.round(preds))*100\n",
    "cm = confusion_matrix(test_labels, np.round(preds))\n",
    "tn, fp, fn, tp = cm.ravel()\n",
    "\n",
    "print('CONFUSION MATRIX')\n",
    "from mlxtend.plotting import plot_confusion_matrix\n",
    "fig, ax = plot_confusion_matrix(conf_mat=cm ,  figsize=(5, 5))\n",
    "plt.show()\n",
    "# print(cm)\n",
    "\n",
    "print('\\nTEST METRICS ----------------------')\n",
    "precision = tp/(tp+fp)*100\n",
    "recall = tp/(tp+fn)*100\n",
    "print('Accuracy: {}%'.format(acc))\n",
    "print('Precision: {}%'.format(precision))\n",
    "print('Recall: {}%'.format(recall))\n",
    "print('F1-score: {}'.format(2*precision*recall/(precision+recall)))\n",
    "\n",
    "print('\\nTRAIN METRIC ----------------------')\n",
    "print('Train acc: {}'.format(np.round((history2.history['acc'][-1])*100, 2)))"
   ]
  },
  {
   "cell_type": "code",
   "execution_count": 13,
   "metadata": {},
   "outputs": [
    {
     "data": {
      "image/png": "[encoded data removed]",
      "text/plain": [
       "<Figure size 432x288 with 1 Axes>"
      ]
     },
     "metadata": {
      "needs_background": "light"
     },
     "output_type": "display_data"
    }
   ],
   "source": [
    "import sklearn.metrics as metrics\n",
    "fpr, tpr, threshold = metrics.roc_curve(test_labels, np.round(preds))\n",
    "roc_auc = metrics.auc(fpr, tpr)\n",
    "\n",
    "# method I: plt\n",
    "import matplotlib.pyplot as plt\n",
    "plt.title('Receiver Operating Characteristic Curve')\n",
    "plt.plot(fpr, tpr, 'b', label = 'AUC = %0.2f' % roc_auc)\n",
    "plt.legend(loc = 'lower right')\n",
    "plt.plot([0, 1], [0, 1],'r--')\n",
    "plt.xlim([0, 1])\n",
    "plt.ylim([0, 1])\n",
    "plt.ylabel('True Positive Rate')\n",
    "plt.xlabel('False Positive Rate')\n",
    "plt.show()"
   ]
  },
  {
   "cell_type": "code",
   "execution_count": null,
   "metadata": {},
   "outputs": [],
   "source": []
  }
 ],
 "metadata": {
  "kernelspec": {
   "display_name": "Python 3",
   "language": "python",
   "name": "python3"
  },
  "language_info": {
   "codemirror_mode": {
    "name": "ipython",
    "version": 3
   },
   "file_extension": ".py",
   "mimetype": "text/x-python",
   "name": "python",
   "nbconvert_exporter": "python",
   "pygments_lexer": "ipython3",
   "version": "3.7.3"
  }
 },
 "nbformat": 4,
 "nbformat_minor": 4
}
